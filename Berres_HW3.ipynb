{
 "cells": [
  {
   "cell_type": "markdown",
   "metadata": {},
   "source": [
    "# Homework #3\n",
    "#### Aidan Berres\n",
    "#### Physics 434\n",
    "#### 10/22/20"
   ]
  },
  {
   "cell_type": "markdown",
   "metadata": {},
   "source": [
    "## Problem #1\n",
    "\n",
    "## 1. a)\n",
    "If we add up the the diagonals of NN Bird/True Person (5) and NN Person/True Bird (3) we find that the first algorithm made 8 mistakes, where it either miscategorized a bird as a person and a person as a bird. Adding the diagonals of the second table and where we subatract 1 from NA Bird/True Person since there is a typo, we find that the second algorithm made 11 mistakes. Thus the Neural Network made fewer mistakes.\n",
    "\n",
    "## 1. b) \n",
    "I think the New Algorithm may be better for the zoo since it identified more birds than the Neural Network, which is better since the birds cannot escape more easily, since they are probably less likely to be identified as a person.\n",
    "\n",
    "## 1. c)\n",
    "Assuming that the true counts of the birds and people are represented by the columns, we can assume that both algorithms do not count subjects twice i.e. It will re-identify birds and not count that as a new bird or person. If this is true, and the number of people goes to 1, we know that both algorithms are more likely to identify humans than birds in the Person rows, we can most likely the only picture of a person will be identified as a person by both algorithms thus,\n",
    "\n",
    "|           | True Bird| True Person |\n",
    "|----------:|----------:|------------:|\n",
    "|   NN Bird |        45 |           0 |\n",
    "| NN Person |         3 |          1 |\n",
    "\n",
    "|           | True Bird| True Person |\n",
    "|----------:|----------:|------------:|\n",
    "|   NA Bird |        47 |           0 |\n",
    "| NA Person |         1 |          1 |"
   ]
  },
  {
   "cell_type": "markdown",
   "metadata": {},
   "source": [
    "## Problem #2\n",
    "\n",
    "## 2. a)\n",
    "The sum of two identical exponential distributions is the [Erlang Distribution](https://en.wikipedia.org/wiki/Erlang_distribution) with a shape of 2 and $\\lambda$ is the rate, which is the same $\\lambda$ from the Exponential distributions. I found this by looking up the exponential distribution on wikipedia which brought to [this section on the sum](https://en.wikipedia.org/wiki/Exponential_distribution#Sum_of_two_independent_exponential_random_variables) which tells at the bottom that two identical exponential distributions summed toghether produces an Erlang Distribution.\n",
    "\n",
    "## 2. b)\n",
    "Another name for a zero-mean unity variance normal distribution is the Standard Normal Distribution and the ratio of two of them is the Standard [Cauchy Distribution](https://en.wikipedia.org/wiki/Cauchy_distribution) with a location parameter of $x_0 = 0$ and the scale parameter of $\\gamma = 0$. By looking at the Normal Distribution wikipedia page we can find [this section](https://en.wikipedia.org/wiki/Normal_distribution#Combination_of_two_independent_random_variables) on combining two independent random varibles from a standard normal distribution in which it states their ratio follows a Cauchy Distribution.\n",
    "\n",
    "## 2. c) \n",
    "Finding the Norm of this vector which is the same as measuring the amplitude of a vector will give you a [Chi distribution](https://en.wikipedia.org/wiki/Chi_distribution) and since there were two components in the vector, we can say that this chi distribution has k = 2 degrees of freedom. I started my search in the [Multivariate normal distribution](https://en.wikipedia.org/wiki/Multivariate_normal_distribution) wikipedia page, in which I came upon the end section [\"See also\"](https://en.wikipedia.org/wiki/Multivariate_normal_distribution#See_also) which the first bullet point states that the norm of a multivariate normal distribution vector variable maps out a chi squared pdf."
   ]
  }
 ],
 "metadata": {
  "kernelspec": {
   "display_name": "Python 3",
   "language": "python",
   "name": "python3"
  },
  "language_info": {
   "codemirror_mode": {
    "name": "ipython",
    "version": 3
   },
   "file_extension": ".py",
   "mimetype": "text/x-python",
   "name": "python",
   "nbconvert_exporter": "python",
   "pygments_lexer": "ipython3",
   "version": "3.8.3"
  }
 },
 "nbformat": 4,
 "nbformat_minor": 4
}
