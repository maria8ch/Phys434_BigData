{
 "cells": [
  {
   "cell_type": "markdown",
   "metadata": {},
   "source": [
    "# HW 3"
   ]
  },
  {
   "cell_type": "markdown",
   "metadata": {},
   "source": [
    "## Problem 1\n",
    "We're going to briefly look at truth tables. As an example let's assume we have a 100 photos, some of birds and some of people. In a truth table you assume you can categorize the true answer—let's say you pay an undergraduate to sort the photos into birds and people. Then you want to have an automated sorting algorithm. However that works, whether it is by looking a the color at the center of photo or using a neural network (NN), it will also sort the photos but imperfectly. Given two sorts you can then arrange a truth table:\n",
    "\n",
    "|           | True Bird | True Person |\n",
    "|-----------|-----------|-------------|\n",
    "| NN Bird   | 45        | 5           |\n",
    "| NN Person | 3         | 47          |\n",
    "\n",
    "There are 48 birds and 52 People (columns), and there are 8 miscategorizations. The NN called three of the birds people, and 5 of the people birds.\n",
    "\n",
    "This is useful because it not only shows the number of errors, but the type, and not all errors are created equal. Let's say our identification system is being used to keep birds from escaping the aviary at the zoo by locking the aviary door when a bird is trying to escape. We really don't want to let birds escape, but locking a person in for 30 extra seconds is not a big deal. In this case false bird identification is not so bad, but false person identification lets a bird escape.\n",
    "\n",
    "Let's say the above truth table is the current system, and you've developed a new algorithm (NA) with the following truth table:\n",
    "\n",
    "|           | True Bird | True Person |\n",
    "|-----------|-----------|-------------|\n",
    "| NA Bird   | 47        | 11          |\n",
    "| NA Person | 1         | 41          |\n",
    "\n",
    "\n",
    "## a) Which algorithm makes the fewest mistakes?\n",
    "*Answer:* NN makes fewer mistakes, if we are just summing them. NN made 8 total mistakes, while NA made 12.\n",
    "\n",
    "## b) Which algorithm is better for the zoo? Explain.\n",
    "*Answer:* NA is better, because it miscategorized less birds as people, meaning less birds would get away. The people can be held up at a lesser cost than the birds flying away.\n",
    "\n",
    "## c) During the pandemic the number of visitors plummets, and it is only the zoo keeper visiting. So instead of 52% of the photos taken at the aviary door being people, it is now only 1%. Make new truth tables for both algorithms.\n",
    "\n",
    "*Answer:* The code blocks below generate the new truth tables."
   ]
  },
  {
   "cell_type": "code",
   "execution_count": 1,
   "metadata": {},
   "outputs": [
    {
     "data": {
      "text/html": [
       "<style  type=\"text/css\" >\n",
       "</style><table id=\"T_3ddccbe8_14f8_11eb_b642_de624171d7f9\" ><caption>NN with Covid Numbers</caption><thead>    <tr>        <th class=\"blank level0\" ></th>        <th class=\"col_heading level0 col0\" >True Bird</th>        <th class=\"col_heading level0 col1\" >True Person</th>    </tr></thead><tbody>\n",
       "                <tr>\n",
       "                        <th id=\"T_3ddccbe8_14f8_11eb_b642_de624171d7f9level0_row0\" class=\"row_heading level0 row0\" >NN Bird</th>\n",
       "                        <td id=\"T_3ddccbe8_14f8_11eb_b642_de624171d7f9row0_col0\" class=\"data row0 col0\" >93</td>\n",
       "                        <td id=\"T_3ddccbe8_14f8_11eb_b642_de624171d7f9row0_col1\" class=\"data row0 col1\" >0</td>\n",
       "            </tr>\n",
       "            <tr>\n",
       "                        <th id=\"T_3ddccbe8_14f8_11eb_b642_de624171d7f9level0_row1\" class=\"row_heading level0 row1\" >NN Person</th>\n",
       "                        <td id=\"T_3ddccbe8_14f8_11eb_b642_de624171d7f9row1_col0\" class=\"data row1 col0\" >6</td>\n",
       "                        <td id=\"T_3ddccbe8_14f8_11eb_b642_de624171d7f9row1_col1\" class=\"data row1 col1\" >1</td>\n",
       "            </tr>\n",
       "    </tbody></table>"
      ],
      "text/plain": [
       "<pandas.io.formats.style.Styler at 0x7f364f3242d0>"
      ]
     },
     "execution_count": 1,
     "metadata": {},
     "output_type": "execute_result"
    }
   ],
   "source": [
    "from pandas import DataFrame as df\n",
    "\n",
    "# NN\n",
    "bird = 99\n",
    "person = 1\n",
    "\n",
    "prob_b_if_b = 45/48\n",
    "prob_p_if_b = 3/48\n",
    "prob_b_if_p = 5/52\n",
    "prob_p_if_p = 47/52\n",
    "\n",
    "\n",
    "BB = round(bird * prob_b_if_b)\n",
    "PB = round(bird * prob_p_if_b)\n",
    "BP = round(person * prob_b_if_p)\n",
    "PP = round(person * prob_p_if_p)\n",
    "\n",
    "NN = df({\"True Bird\":(BB,PB),\"True Person\":(BP,PP)})\n",
    "NN = NN.rename(index={0: \"NN Bird\", 1: \"NN Person\"})\n",
    "NN = NN.style.set_caption('NN with Covid Numbers')\n",
    "NN"
   ]
  },
  {
   "cell_type": "code",
   "execution_count": 2,
   "metadata": {},
   "outputs": [
    {
     "data": {
      "text/html": [
       "<style  type=\"text/css\" >\n",
       "</style><table id=\"T_3ddf453a_14f8_11eb_b642_de624171d7f9\" ><caption>NA with Covid Numbers</caption><thead>    <tr>        <th class=\"blank level0\" ></th>        <th class=\"col_heading level0 col0\" >True Bird</th>        <th class=\"col_heading level0 col1\" >True Person</th>    </tr></thead><tbody>\n",
       "                <tr>\n",
       "                        <th id=\"T_3ddf453a_14f8_11eb_b642_de624171d7f9level0_row0\" class=\"row_heading level0 row0\" >NA Bird</th>\n",
       "                        <td id=\"T_3ddf453a_14f8_11eb_b642_de624171d7f9row0_col0\" class=\"data row0 col0\" >97</td>\n",
       "                        <td id=\"T_3ddf453a_14f8_11eb_b642_de624171d7f9row0_col1\" class=\"data row0 col1\" >0</td>\n",
       "            </tr>\n",
       "            <tr>\n",
       "                        <th id=\"T_3ddf453a_14f8_11eb_b642_de624171d7f9level0_row1\" class=\"row_heading level0 row1\" >NA Person</th>\n",
       "                        <td id=\"T_3ddf453a_14f8_11eb_b642_de624171d7f9row1_col0\" class=\"data row1 col0\" >2</td>\n",
       "                        <td id=\"T_3ddf453a_14f8_11eb_b642_de624171d7f9row1_col1\" class=\"data row1 col1\" >1</td>\n",
       "            </tr>\n",
       "    </tbody></table>"
      ],
      "text/plain": [
       "<pandas.io.formats.style.Styler at 0x7f367a72ab90>"
      ]
     },
     "execution_count": 2,
     "metadata": {},
     "output_type": "execute_result"
    }
   ],
   "source": [
    "# NA\n",
    "bird = 99\n",
    "person = 1\n",
    "\n",
    "prob_b_if_b = 47/48\n",
    "prob_p_if_b = 1/48\n",
    "prob_b_if_p = 11/52\n",
    "prob_p_if_p = 42/52\n",
    "\n",
    "\n",
    "BB = round(bird * prob_b_if_b)\n",
    "PB = round(bird * prob_p_if_b)\n",
    "BP = round(person * prob_b_if_p)\n",
    "PP = round(person * prob_p_if_p)\n",
    "\n",
    "NA = df({\"True Bird\":(BB,PB),\"True Person\":(BP,PP)})\n",
    "NA = NA.rename(index={0: \"NA Bird\", 1: \"NA Person\"})\n",
    "NA = NA.style.set_caption('NA with Covid Numbers')\n",
    "NA"
   ]
  },
  {
   "cell_type": "markdown",
   "metadata": {},
   "source": [
    "## Problem 2\n",
    "In the last lab we explored how to numerically calculate the pdf of a summed or averaged observation through repeated convolutions. But sometimes the convolution has an analytical solution. We could have found this out by either using a sharp pencil and doing the convolution integral by hand, or by looking it up in a table (much easier).\n",
    "\n",
    "Having an analytic answer is much nicer when they exist, so it is always good to look and see if it exists. Further, sums and averages are only some of the mathematical operations that we can perform. In this section we will do an internet scavenger hunt to find the analytic pdf for some interesting distributions.\n",
    "\n",
    "### Example 1\n",
    "What is the sum of two Guassian distributions?\n",
    "\n",
    "We did this numerically in the last lab, but we can find it analytically. One might start with this page on the normal distribution which would refer you to this page on the sum, which would give you the same answer you figured out last week.\n",
    "\n",
    "### Example 2\n",
    "Let's say we have a variable with a Rayleigh distribution, and we're going to square it. What is the distribution?\n",
    "\n",
    "First I'll lookup and read about the Rayleigh distribution, such as this Wikipedia page (Mathworld and other sources, such as CRC books are great too). Down near the bottom are listed a number of related distributions. Note that the square of the Rayleigh is listed as a gamma distribution with N = 1. Looking up the gamma distribution we see that a gamma with N=1 is an exponential distribution, and just to check we can see that the sqrt of an exponential distribution is a Rayleigh distribution to bring us full circle.\n",
    "\n",
    "Now it is your turn!\n",
    "\n",
    "## a) What is the pdf of the sum of two identical exponential distributions?"
   ]
  },
  {
   "cell_type": "markdown",
   "metadata": {},
   "source": [
    "*Answer:* From the Wikipedia page linked [here](https://en.wikipedia.org/wiki/Exponential_distribution), we find the pdf of the sum of two exponential functions to be the following:\n",
    "\n",
    "$${{\\begin{aligned}f_{Z}(z)&=\\int _{-\\infty }^{\\infty }f_{X_{1}}(x_{1})f_{X_{2}}(z-x_{1})\\,dx_{1}\\\\&=\\int _{0}^{z}\\lambda _{1}e^{-\\lambda _{1}x_{1}}\\lambda _{2}e^{-\\lambda _{2}(z-x_{1})}\\,dx_{1}\\\\&=\\lambda _{1}\\lambda _{2}e^{-\\lambda _{2}z}\\int _{0}^{z}e^{(\\lambda _{2}-\\lambda _{1})x_{1}}\\,dx_{1}\\\\&={\\begin{cases}{\\dfrac {\\lambda _{1}\\lambda _{2}}{\\lambda _{2}-\\lambda _{1}}}\\left(e^{-\\lambda _{1}z}-e^{-\\lambda _{2}z}\\right)&{\\text{ if }}\\lambda _{1}\\neq \\lambda _{2}\\\\[4pt]\\lambda ^{2}ze^{-\\lambda z}&{\\text{ if }}\\lambda _{1}=\\lambda _{2}=\\lambda \\end{cases}}\\end{aligned}}}$$\n",
    "\n",
    "As you can see in the bottom half of that equation, if the exponential functions are identical ($\\lambda_1 = \\lambda_2$), you get an Erlang distribution with shape 2 and parameter ${\\displaystyle \\lambda ,}$ which is a special case of a gamma distribution."
   ]
  },
  {
   "cell_type": "markdown",
   "metadata": {},
   "source": [
    "## b) What is the pdf of the ratio of two zero-mean unity variance normal distributions $X_1/X_2$?"
   ]
  },
  {
   "cell_type": "markdown",
   "metadata": {},
   "source": [
    "*Answer:* According to Wikipedia's article on [Normal distributions](https://en.wikipedia.org/wiki/Normal_distribution), if you have two standard normal distributions with mean 0 and variance 1, the pdf of the ratio between the two follows a standard Cauchy distribution: ${\\displaystyle X_{1}/X_{2}\\sim \\operatorname {Cauchy} (0,1)}$."
   ]
  },
  {
   "cell_type": "markdown",
   "metadata": {},
   "source": [
    "## c) So far we have looked at 1D probability distributions, but it is possible to have a multi-dimensional vector distribution. A simple first introduction is the 2D Gaussian; it looks like a smeared spot. Mathematically this is given by $X\\hat{i} + Y\\hat{j}$ where both $X$ and $Y$ are drawn from 1D Gaussian distributions. If I measure the amplitude of this vector, what is its pdf? (Hint, the amplitude is always positive.)"
   ]
  },
  {
   "cell_type": "markdown",
   "metadata": {},
   "source": [
    "*Answer:* Looking at [this link](https://en.wikipedia.org/wiki/Multivariate_normal_distribution#See_also), we can see that the pdf for this is a chi distribution."
   ]
  },
  {
   "cell_type": "code",
   "execution_count": null,
   "metadata": {},
   "outputs": [],
   "source": []
  }
 ],
 "metadata": {
  "kernelspec": {
   "display_name": "Python 3",
   "language": "python",
   "name": "python3"
  },
  "language_info": {
   "codemirror_mode": {
    "name": "ipython",
    "version": 3
   },
   "file_extension": ".py",
   "mimetype": "text/x-python",
   "name": "python",
   "nbconvert_exporter": "python",
   "pygments_lexer": "ipython3",
   "version": "3.7.4"
  }
 },
 "nbformat": 4,
 "nbformat_minor": 4
}
