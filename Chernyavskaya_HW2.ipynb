{
 "cells": [
  {
   "cell_type": "markdown",
   "metadata": {},
   "source": [
    "# HW 2"
   ]
  },
  {
   "cell_type": "code",
   "execution_count": 14,
   "metadata": {},
   "outputs": [],
   "source": [
    "%matplotlib inline\n",
    "import numpy as np\n",
    "import matplotlib\n",
    "import matplotlib.pyplot as plt\n",
    "import scipy\n",
    "from scipy import stats\n",
    "import sympy as sp"
   ]
  },
  {
   "cell_type": "markdown",
   "metadata": {},
   "source": [
    "**1) A little introductory brain teaser. Which is more probable when rolling 2 six-sided dice: rolling snake eyes (two ones) or rolling sevens (dice sum to seven)? What is the ratio of the probabilities?**"
   ]
  },
  {
   "cell_type": "markdown",
   "metadata": {},
   "source": [
    "Answer: \n",
    "Rolling sevens is more probable. \n",
    "\n",
    "For snake eyes, the probability is 1/6 times 1/6 (equal to 1/36) because each die roll is an independent event. Out of all of the possible ways to roll dice (36 ways), there's only way to get two ones.\n",
    "\n",
    "For rolling sevens, it's the convolution of two die rolls. There's multiple ways to roll a seven:\n",
    "1+6\n",
    "2+5\n",
    "3+4\n",
    "4+3\n",
    "5+2\n",
    "6+1\n",
    "Out of all the ways one can roll dice (36 ways), this is 6 outcomes. 6/36 = 1/6\n",
    "\n",
    "The ratio of snake eyes to sevens is $\\frac{\\frac{1}{36}}{\\frac{1}{6}} = \\frac{1}{6}$."
   ]
  },
  {
   "cell_type": "markdown",
   "metadata": {},
   "source": [
    "**2) Following what we did in class show how to use the convolution operator to determine the probability of the sum of 2 six sided dice. Do both analytically (math & counting) and numerically (computer program). Beware the implicit definition of the values (x-axis on histogram).**"
   ]
  },
  {
   "cell_type": "markdown",
   "metadata": {},
   "source": [
    "*Analytically*:\n",
    "\n",
    "Sum = 2:\n",
    "* p(1,1) = 1/6 * 1/6 = 1/36\n",
    "\n",
    "Sum = 3:\n",
    "* p(1,2) + p(2,1) = 1/36 + 1/36 = 1/18\n",
    "\n",
    "Sum = 4:\n",
    "* p(2,2) + p(3,1) + p(1,3) = 1/36 + 1/36 + 1/36 = 1/12\n",
    "\n",
    "Sum = 5:\n",
    "* p(2,3) + p(3,2) + p(4,1) + p(1,4) = 1/36 + 1/36 + 1/36 + 1/36 = 1/9\n",
    "\n",
    "Sum = 6:\n",
    "* p(3,3) + p(4,2) + p(2,4) + p(5,1) + p(1,5) = 1/36 + 1/36 + 1/36 + 1/36 + 1/36 = 5/36\n",
    "\n",
    "Sum = 7:\n",
    "* p(3,4) + p(4,3) + p(5,2) + p(2,5) + p(1,6) + p(6,1) = 1/36 + 1/36 + 1/36 + 1/36 + 1/36 + 1/36 = 1/6\n",
    "\n",
    "Sum = 8:\n",
    "* p(4,4) + p(5,3) + p(3,5) + p(6,2) + p(2,6) = 1/36 + 1/36 + 1/36 + 1/36 + 1/36 = 5/36\n",
    "\n",
    "Sum = 9:\n",
    "* p(3,6) + p(6,3) + p(4,5) + p(5,4) = 1/36 + 1/36 + 1/36 + 1/36 = 1/9\n",
    "\n",
    "Sum = 10:\n",
    "* p(5,5) + p(6,4) + p(4,6) = 1/36 + 1/36 + 1/36 = 1/12\n",
    "\n",
    "Sum = 11:\n",
    "* p(6,5) + p(5,6) = 1/36 + 1/36 = 1/18\n",
    "\n",
    "Sum = 12:\n",
    "* p(6,6) = 1/6 * 1/6 = 1/36\n",
    "\n",
    "*Numerically*:"
   ]
  },
  {
   "cell_type": "code",
   "execution_count": 120,
   "metadata": {},
   "outputs": [
    {
     "name": "stdout",
     "output_type": "stream",
     "text": [
      "The probability of summing to:\n",
      "2 is 1/36\n",
      "3 is 1/18\n",
      "4 is 1/12\n",
      "5 is 1/9\n",
      "6 is 5/36\n",
      "7 is 1/6\n",
      "8 is 5/36\n",
      "9 is 1/9\n",
      "10 is 1/12\n",
      "11 is 1/18\n",
      "12 is 1/36\n"
     ]
    }
   ],
   "source": [
    "die = np.array([1/6,1/6,1/6,1/6,1/6,1/6])\n",
    "\n",
    "sums = np.convolve(die, die)\n",
    "print(\"The probability of summing to:\" )\n",
    "for i in range(len(sums)):\n",
    "    print(f\"{i+2} is {sp.nsimplify(sums[i])}\")"
   ]
  },
  {
   "cell_type": "markdown",
   "metadata": {},
   "source": [
    "**3) Calculate the mean,the variance of the distribution in problem 2. Hint: this is surprisingly tricky, make sure your result makes sense.**"
   ]
  },
  {
   "cell_type": "code",
   "execution_count": 145,
   "metadata": {},
   "outputs": [
    {
     "name": "stdout",
     "output_type": "stream",
     "text": [
      "Mean is 7.00 \n",
      "Variance is 5.83\n"
     ]
    }
   ],
   "source": [
    "x = np.arange(2,13)\n",
    "mean = np.sum(x * sums)\n",
    "square = (x-mean)**2\n",
    "var = np.sum(square * sums)\n",
    "\n",
    "print(f\"Mean is {mean:.2f} \\nVariance is {var:.2f}\")"
   ]
  },
  {
   "cell_type": "markdown",
   "metadata": {},
   "source": [
    "**4) Repeat 2, and graph the average of 10 dice. Is this is a Gaussian distribution? Explain in depth.**"
   ]
  },
  {
   "cell_type": "code",
   "execution_count": 122,
   "metadata": {},
   "outputs": [
    {
     "name": "stdout",
     "output_type": "stream",
     "text": [
      "Mean is 35.00 \n",
      "Variance is 29.17\n"
     ]
    }
   ],
   "source": [
    "x_new = np.arange(10, 61)\n",
    "sum_2 = np.convolve(die, die)\n",
    "sum_4 = np.convolve(sum_2, sum_2)\n",
    "sum_8 = np.convolve(sum_4, sum_4)\n",
    "sum_10 = np.convolve(sum_8, sum_2)\n",
    "\n",
    "mean_10 = np.sum(x_new * sum_10)\n",
    "square_10 = (x_new - mean_10)**2\n",
    "var_10 = np.sum(square_10 * sum_10)\n",
    "\n",
    "print(f\"Mean is {mean_10:.2f} \\nVariance is {var_10:.2f}\")"
   ]
  },
  {
   "cell_type": "code",
   "execution_count": 140,
   "metadata": {},
   "outputs": [
    {
     "data": {
      "image/png": "[encoded data removed]",
      "text/plain": [
       "<Figure size 720x432 with 1 Axes>"
      ]
     },
     "metadata": {
      "needs_background": "light"
     },
     "output_type": "display_data"
    }
   ],
   "source": [
    "fig, ax = plt.subplots(figsize=(10,6))\n",
    "ax.bar(x_new/10, sum_10, width = 0.1)\n",
    "ax.plot(x_new/10, sum_10, c='orange', label ='cdf of the average of 10 die rolls')\n",
    "plt.title('Plot of 10 dice rolls, averages')\n",
    "ax.legend();"
   ]
  },
  {
   "cell_type": "code",
   "execution_count": 141,
   "metadata": {},
   "outputs": [
    {
     "data": {
      "image/png": "[encoded data removed]",
      "text/plain": [
       "<Figure size 720x432 with 1 Axes>"
      ]
     },
     "metadata": {
      "needs_background": "light"
     },
     "output_type": "display_data"
    }
   ],
   "source": [
    "fig, ax = plt.subplots(figsize=(10,6))\n",
    "ax.bar(x_new/10, sum_10, width = 0.1)\n",
    "ax.plot(x_new/10, sum_10, c='orange', label ='cdf of average of 10 die rolls')\n",
    "plt.yscale('log')\n",
    "plt.title('Semi-log plot of 10 dice roll averages')\n",
    "ax.legend();"
   ]
  },
  {
   "cell_type": "markdown",
   "metadata": {},
   "source": [
    "Yes- \n",
    "EXPLANATION TIME"
   ]
  },
  {
   "cell_type": "markdown",
   "metadata": {},
   "source": [
    "**5) Show that the sum and average of an initially Gaussian distribution is also a Guassian (can be analytic or numerical). How does the standard deviation of the resulting sum or average Guassian change? This is a hugely important result. Explore what this means for integrating a signal over time.**"
   ]
  },
  {
   "cell_type": "markdown",
   "metadata": {},
   "source": [
    "Let's do something here"
   ]
  },
  {
   "cell_type": "markdown",
   "metadata": {},
   "source": [
    "When you're integrating a signal over time, you're essentially "
   ]
  },
  {
   "cell_type": "code",
   "execution_count": null,
   "metadata": {},
   "outputs": [],
   "source": []
  }
 ],
 "metadata": {
  "kernelspec": {
   "display_name": "Python 3",
   "language": "python",
   "name": "python3"
  },
  "language_info": {
   "codemirror_mode": {
    "name": "ipython",
    "version": 3
   },
   "file_extension": ".py",
   "mimetype": "text/x-python",
   "name": "python",
   "nbconvert_exporter": "python",
   "pygments_lexer": "ipython3",
   "version": "3.7.4"
  }
 },
 "nbformat": 4,
 "nbformat_minor": 4
}
